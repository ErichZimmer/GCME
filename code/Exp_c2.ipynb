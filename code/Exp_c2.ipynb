{
 "cells": [
  {
   "cell_type": "markdown",
   "metadata": {},
   "source": [
    "## Figure 6 info"
   ]
  },
  {
   "cell_type": "code",
   "execution_count": 1,
   "metadata": {},
   "outputs": [],
   "source": [
    "import os\n",
    "import numpy as np\n",
    "import cv2\n",
    "import matplotlib.pyplot as plt\n",
    "import seaborn as sns\n",
    "\n",
    "sns.set_style()\n",
    "%matplotlib inline\n",
    "\n",
    "# from methods.BIGC import blind_inverse_gamma_correction\n",
    "# from methods.CAB import correct_average_brightness as cab\n",
    "# from methods.AGT import adaptive_gamma_transform\n",
    "\n",
    "from methods.BIGC import BIGC\n",
    "from methods.CAB import CAB\n",
    "from methods.GCMV import GCMV\n",
    "from methods.GCMP import GCMP\n",
    "from methods.GCME import GCME\n",
    "from methods.metrics import m_entropy, m_power, m_contrast, m_EMEG"
   ]
  },
  {
   "cell_type": "code",
   "execution_count": 2,
   "metadata": {},
   "outputs": [],
   "source": [
    "# Calculate the entropy of an image\n",
    "def entropy(img):\n",
    "    if img.ndim > 2:\n",
    "        gray = cv2.cvtColor(img,cv2.COLOR_BGR2GRAY)\n",
    "    else:\n",
    "        gray = img\n",
    "\n",
    "    p = np.zeros(256)\n",
    "    \n",
    "    for i in range(256):\n",
    "        p[i] = np.sum(gray[:]==i).astype(float)/(gray.shape[0]*gray.shape[1])\n",
    "    \n",
    "    entropy = 0.0\n",
    "    for i in range(256):\n",
    "        if p[i]>0:\n",
    "            entropy -= p[i]*np.log(p[i])\n",
    "    return entropy"
   ]
  },
  {
   "cell_type": "code",
   "execution_count": 3,
   "metadata": {},
   "outputs": [
    {
     "data": {
      "text/plain": [
       "<function matplotlib.pyplot.show(close=None, block=None)>"
      ]
     },
     "execution_count": 3,
     "metadata": {},
     "output_type": "execute_result"
    },
    {
     "data": {
      "image/png": "[encoded data removed]",
      "text/plain": [
       "<Figure size 432x288 with 1 Axes>"
      ]
     },
     "metadata": {
      "needs_background": "light"
     },
     "output_type": "display_data"
    }
   ],
   "source": [
    "# Read the images and compute the entropy of each images\n",
    "image_path = [\"../images/camera/car/\",\"../images/camera/buildings/\"]\n",
    "gamma = 0.05*np.linspace(1,60,60)\n",
    "labels = [\"Toy\", \"Building\"]\n",
    "images = [list(),list()]\n",
    "entropies = [list(),list()]\n",
    "for i in range(2): # Toy and Building \n",
    "    for j in range(1,61):\n",
    "        img = cv2.imread(os.path.join(image_path[i],str(j)+\"image.bmp\"))\n",
    "        images[i].append(img)\n",
    "        entropies[i].append(entropy(img))\n",
    "        \n",
    "# plot the entropy VS gamma relationship for fun\n",
    "plt.figure()\n",
    "plt.plot(gamma, np.array(entropies[0]),label=labels[0], color=(0.75,0.75,1.0))\n",
    "plt.plot(gamma, np.array(entropies[1]),label=labels[1], color=(0.00,0.00,0.0))\n",
    "plt.xlabel(\"gamma\")\n",
    "plt.ylabel(\"entropy\")\n",
    "plt.legend()\n",
    "plt.grid()\n",
    "plt.show"
   ]
  },
  {
   "cell_type": "code",
   "execution_count": null,
   "metadata": {},
   "outputs": [
    {
     "name": "stdout",
     "output_type": "stream",
     "text": [
      "********************\n",
      "Init case:0.75\n",
      "Entropy: 5.460 Power:0.00479 Contrast:74.625 EMEG: 0.434\n",
      "Maximum Entropy:0.65\n"
     ]
    }
   ],
   "source": [
    "def measure(case,index, name=None):\n",
    "    image = images[case][index]\n",
    "    img = cv2.cvtColor(image,cv2.COLOR_BGR2GRAY)\n",
    "    m_ent, m_pw = m_entropy(img, False), m_power(img, False) # images from camera don't have peak-gap pattern\n",
    "    m_cont, m_e = m_contrast(img), m_EMEG(img)\n",
    "    info = f'Entropy:{m_ent:6.3f} Power:{m_pw:7.5f} Contrast:{m_cont:6.3f} EMEG:{m_e:6.3f}'\n",
    "    print(info)\n",
    "    \n",
    "    # save the image here\n",
    "    if name is not None:\n",
    "        cv2.imwrite(f\"case{case}_{name}.bmp\", image)\n",
    "    \n",
    "# Set the initial gamma, get the corresponding index\n",
    "gamma_init = 0.75\n",
    "index_init = np.round(gamma_init/0.05).astype(np.int) - 1  \n",
    "\n",
    "# init_index = int(init_gamma/0.05) - 1\n",
    "label2 = [[\"a\",\"b\",\"c\",\"d\",\"e\",\"f\"],[\"g\",\"h\",\"i\",\"j\",\"k\",\"l\"]]\n",
    "methods = ['BIGC','CAB','GCMV','GCMP','GCME']\n",
    "\n",
    "\n",
    "for i in range(2): # 'car' and 'building'\n",
    "    print(\"*\"*20)\n",
    "    # read the initial image\n",
    "    img_init = images[i][index_init]\n",
    "    img_init = cv2.cvtColor(img_init, cv2.COLOR_BGR2GRAY)\n",
    "    \n",
    "    print(f'Init case:{(index_init+1)*0.05}')            \n",
    "    measure(i, index_init,'Init')\n",
    "    \n",
    "    # get the image with max entropy\n",
    "    index_max_entr = np.argmax(np.array(entropies[i]))\n",
    "    print(f'Maximum Entropy:{(index_max_entr+1)*0.05}')            \n",
    "    measure(i, index_max_entr, 'MaxE')\n",
    "\n",
    "    # Gamma Correction method\n",
    "    for method in methods:\n",
    "        gamma_delta, _ =  eval(method)(img_init)\n",
    "        gamma = gamma_init * gamma_delta\n",
    "        index = np.round(gamma/0.05).astype(np.int) - 1\n",
    "        info =f'{method}:{(index+1)*0.05:2.0f}'\n",
    "        print(info)            \n",
    "        measure(i, index, method)"
   ]
  }
 ],
 "metadata": {
  "kernelspec": {
   "display_name": "Python 3",
   "language": "python",
   "name": "python3"
  },
  "language_info": {
   "codemirror_mode": {
    "name": "ipython",
    "version": 3
   },
   "file_extension": ".py",
   "mimetype": "text/x-python",
   "name": "python",
   "nbconvert_exporter": "python",
   "pygments_lexer": "ipython3",
   "version": "3.6.5"
  }
 },
 "nbformat": 4,
 "nbformat_minor": 2
}
